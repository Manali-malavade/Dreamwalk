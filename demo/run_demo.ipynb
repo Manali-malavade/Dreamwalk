{
 "cells": [
  {
   "cell_type": "markdown",
   "metadata": {},
   "source": [
    "## 1. Generate similarity graph from hierarchies\n",
    "- outputs `demo_similarty_graph.txt`"
   ]
  },
  {
   "cell_type": "code",
   "execution_count": 1,
   "metadata": {},
   "outputs": [],
   "source": [
    "%load_ext autoreload\n",
    "%autoreload 2"
   ]
  },
  {
   "cell_type": "code",
   "execution_count": 2,
   "metadata": {},
   "outputs": [
    {
     "name": "stdout",
     "output_type": "stream",
     "text": [
      "Similarity graph saved: demo_similarty_graph.txt\n"
     ]
    }
   ],
   "source": [
    "from generate_similarity_net import save_sim_graph\n",
    "\n",
    "networkf='demo_graph.txt'\n",
    "hierf='demo_hierarchy.csv'\n",
    "simf='demo_similarty_graph.txt'\n",
    "cutoff=0.5\n",
    "\n",
    "save_sim_graph(networkf=networkf,hierf=hierf,outputf=simf,cutoff=cutoff)"
   ]
  },
  {
   "cell_type": "markdown",
   "metadata": {},
   "source": [
    "## 2. Generate node embeddings by teleport-guided randomwalk\n",
    "- outputs `embedding_file.pkl`"
   ]
  },
  {
   "cell_type": "code",
   "execution_count": 4,
   "metadata": {},
   "outputs": [
    {
     "name": "stdout",
     "output_type": "stream",
     "text": [
      "random seed with 42\n",
      "Reading network files...\n",
      "Generating paths...\n",
      "Generating node embeddings...\n",
      "Node embeddings saved: embedding_file.pkl\n"
     ]
    }
   ],
   "source": [
    "from generate_embeddings import save_embedding_files\n",
    "\n",
    "embeddingf='embedding_file.pkl'\n",
    "\n",
    "save_embedding_files(netf=networkf,sim_netf=simf, outputf=embeddingf,\n",
    "                    tp_factor=0.5)"
   ]
  },
  {
   "cell_type": "markdown",
   "metadata": {},
   "source": [
    "## 3. Predict drug-disease association\n",
    "- saves MLP model in `checkpoint.pt`"
   ]
  },
  {
   "cell_type": "code",
   "execution_count": 5,
   "metadata": {},
   "outputs": [
    {
     "name": "stdout",
     "output_type": "stream",
     "text": [
      "random seed with 42\n",
      "[Epoch   0] Train loss:0.720, Valid loss: 0.722, Test loss: 0.719\n",
      "[Epoch   1] Train loss:0.714, Valid loss: 0.722, Test loss: 0.718\n",
      "[Epoch   2] Train loss:0.709, Valid loss: 0.723, Test loss: 0.717\n",
      "[Epoch   3] Train loss:0.704, Valid loss: 0.724, Test loss: 0.716\n",
      "[Epoch   4] Train loss:0.699, Valid loss: 0.724, Test loss: 0.715\n",
      "[Epoch   5] Train loss:0.693, Valid loss: 0.725, Test loss: 0.713\n",
      "[Epoch   6] Train loss:0.688, Valid loss: 0.725, Test loss: 0.712\n",
      "[Epoch   7] Train loss:0.683, Valid loss: 0.726, Test loss: 0.711\n",
      "[Epoch   8] Train loss:0.679, Valid loss: 0.727, Test loss: 0.711\n",
      "[Epoch   9] Train loss:0.674, Valid loss: 0.727, Test loss: 0.710\n",
      "[Epoch  10] Train loss:0.669, Valid loss: 0.728, Test loss: 0.709\n",
      "[Epoch  11] Train loss:0.665, Valid loss: 0.729, Test loss: 0.708\n",
      "[Epoch  12] Train loss:0.660, Valid loss: 0.729, Test loss: 0.707\n",
      "[Epoch  13] Train loss:0.656, Valid loss: 0.730, Test loss: 0.706\n",
      "[Epoch  14] Train loss:0.651, Valid loss: 0.731, Test loss: 0.705\n",
      "[Epoch  15] Train loss:0.647, Valid loss: 0.732, Test loss: 0.704\n",
      "[Epoch  16] Train loss:0.643, Valid loss: 0.733, Test loss: 0.703\n",
      "[Epoch  17] Train loss:0.638, Valid loss: 0.733, Test loss: 0.702\n",
      "[Epoch  18] Train loss:0.634, Valid loss: 0.734, Test loss: 0.700\n",
      "[Epoch  19] Train loss:0.630, Valid loss: 0.735, Test loss: 0.699\n",
      "[Epoch  20] Train loss:0.626, Valid loss: 0.736, Test loss: 0.698\n",
      "\n",
      "loaded best model \"checkpoint.pt\", valid loss: 0.722, test loss: 0.719\n",
      "Best model performance: AUROC 0.750, AUPR 0.792, Acc 0.750, F1 0.667\n",
      "==================================================\n"
     ]
    }
   ],
   "source": [
    "from predict_associations import predict_dda\n",
    "\n",
    "pairf='demo_dda.tsv'\n",
    "modelf='checkpoint.pt'\n",
    "\n",
    "predict_dda(embeddingf=embeddingf, pairf=pairf, modelf=modelf)"
   ]
  },
  {
   "cell_type": "code",
   "execution_count": null,
   "metadata": {},
   "outputs": [],
   "source": []
  }
 ],
 "metadata": {
  "kernelspec": {
   "display_name": "tutorial",
   "language": "python",
   "name": "tutorial"
  },
  "language_info": {
   "codemirror_mode": {
    "name": "ipython",
    "version": 3
   },
   "file_extension": ".py",
   "mimetype": "text/x-python",
   "name": "python",
   "nbconvert_exporter": "python",
   "pygments_lexer": "ipython3",
   "version": "3.8.13"
  }
 },
 "nbformat": 4,
 "nbformat_minor": 4
}
