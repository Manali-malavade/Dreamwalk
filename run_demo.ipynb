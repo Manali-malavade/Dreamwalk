{
 "cells": [
  {
   "cell_type": "code",
   "execution_count": 1,
   "metadata": {},
   "outputs": [],
   "source": [
    "%load_ext autoreload\n",
    "%autoreload 2"
   ]
  },
  {
   "cell_type": "markdown",
   "metadata": {},
   "source": [
    "## 1. Generate similarity graph from hierarchies\n",
    "- outputs `demo/demo_similarty_graph.txt`"
   ]
  },
  {
   "cell_type": "code",
   "execution_count": 2,
   "metadata": {},
   "outputs": [
    {
     "name": "stdout",
     "output_type": "stream",
     "text": [
      "Similarity graph saved: demo/demo_similarty_graph.txt\n"
     ]
    }
   ],
   "source": [
    "from DREAMwalk.generate_similarity_net import save_sim_graph\n",
    "\n",
    "networkf='demo/demo_graph.txt'\n",
    "hierf='demo/demo_hierarchy.csv'\n",
    "simf='demo/demo_similarty_graph.txt'\n",
    "cutoff=0.5\n",
    "\n",
    "save_sim_graph(networkf=networkf,hierf=hierf,outputf=simf,cutoff=cutoff)"
   ]
  },
  {
   "cell_type": "markdown",
   "metadata": {},
   "source": [
    "## 2. Generate node embeddings by teleport-guided randomwalk\n",
    "- outputs `demo/embedding_file.pkl`"
   ]
  },
  {
   "cell_type": "code",
   "execution_count": 3,
   "metadata": {},
   "outputs": [
    {
     "name": "stdout",
     "output_type": "stream",
     "text": [
      "random seed with 42\n",
      "Reading network files...\n",
      "Generating paths...\n",
      "Generating node embeddings...\n",
      "Node embeddings saved: demo/embedding_file.pkl\n"
     ]
    }
   ],
   "source": [
    "from DREAMwalk.generate_embeddings import save_embedding_files\n",
    "\n",
    "embeddingf='demo/embedding_file.pkl'\n",
    "\n",
    "save_embedding_files(netf=networkf,sim_netf=simf, outputf=embeddingf,\n",
    "                    tp_factor=0.5)"
   ]
  },
  {
   "cell_type": "markdown",
   "metadata": {},
   "source": [
    "## 3. Predict drug-disease association\n",
    "- saves MLP model in `demo/checkpoint.pt`"
   ]
  },
  {
   "cell_type": "code",
   "execution_count": 4,
   "metadata": {},
   "outputs": [
    {
     "name": "stdout",
     "output_type": "stream",
     "text": [
      "random seed with 42\n",
      "[Epoch   0] Train loss:0.720, Valid loss: 0.717, Test loss: 0.720\n",
      "[Epoch   1] Train loss:0.714, Valid loss: 0.712, Test loss: 0.718\n",
      "[Epoch   2] Train loss:0.707, Valid loss: 0.708, Test loss: 0.716\n",
      "[Epoch   3] Train loss:0.701, Valid loss: 0.704, Test loss: 0.714\n",
      "[Epoch   4] Train loss:0.695, Valid loss: 0.699, Test loss: 0.712\n",
      "[Epoch   5] Train loss:0.688, Valid loss: 0.695, Test loss: 0.710\n",
      "[Epoch   6] Train loss:0.682, Valid loss: 0.691, Test loss: 0.709\n",
      "[Epoch   7] Train loss:0.677, Valid loss: 0.686, Test loss: 0.707\n",
      "[Epoch   8] Train loss:0.671, Valid loss: 0.682, Test loss: 0.705\n",
      "[Epoch   9] Train loss:0.666, Valid loss: 0.678, Test loss: 0.703\n",
      "[Epoch  10] Train loss:0.661, Valid loss: 0.673, Test loss: 0.701\n",
      "[Epoch  11] Train loss:0.655, Valid loss: 0.669, Test loss: 0.700\n",
      "[Epoch  12] Train loss:0.651, Valid loss: 0.665, Test loss: 0.698\n",
      "[Epoch  13] Train loss:0.646, Valid loss: 0.661, Test loss: 0.696\n",
      "[Epoch  14] Train loss:0.641, Valid loss: 0.657, Test loss: 0.694\n",
      "[Epoch  15] Train loss:0.636, Valid loss: 0.653, Test loss: 0.692\n",
      "[Epoch  16] Train loss:0.632, Valid loss: 0.649, Test loss: 0.691\n",
      "[Epoch  17] Train loss:0.627, Valid loss: 0.645, Test loss: 0.689\n",
      "[Epoch  18] Train loss:0.623, Valid loss: 0.642, Test loss: 0.687\n",
      "[Epoch  19] Train loss:0.619, Valid loss: 0.639, Test loss: 0.686\n",
      "[Epoch  20] Train loss:0.615, Valid loss: 0.636, Test loss: 0.684\n",
      "[Epoch  21] Train loss:0.611, Valid loss: 0.634, Test loss: 0.682\n",
      "[Epoch  22] Train loss:0.607, Valid loss: 0.631, Test loss: 0.681\n",
      "[Epoch  23] Train loss:0.603, Valid loss: 0.629, Test loss: 0.679\n",
      "[Epoch  24] Train loss:0.599, Valid loss: 0.627, Test loss: 0.678\n",
      "[Epoch  25] Train loss:0.596, Valid loss: 0.625, Test loss: 0.677\n",
      "[Epoch  26] Train loss:0.592, Valid loss: 0.624, Test loss: 0.675\n",
      "[Epoch  27] Train loss:0.589, Valid loss: 0.622, Test loss: 0.674\n",
      "[Epoch  28] Train loss:0.586, Valid loss: 0.621, Test loss: 0.673\n",
      "[Epoch  29] Train loss:0.583, Valid loss: 0.620, Test loss: 0.672\n",
      "[Epoch  30] Train loss:0.580, Valid loss: 0.619, Test loss: 0.671\n",
      "[Epoch  31] Train loss:0.577, Valid loss: 0.618, Test loss: 0.670\n",
      "[Epoch  32] Train loss:0.574, Valid loss: 0.618, Test loss: 0.668\n",
      "[Epoch  33] Train loss:0.572, Valid loss: 0.617, Test loss: 0.667\n",
      "[Epoch  34] Train loss:0.570, Valid loss: 0.617, Test loss: 0.666\n",
      "[Epoch  35] Train loss:0.567, Valid loss: 0.617, Test loss: 0.665\n",
      "[Epoch  36] Train loss:0.565, Valid loss: 0.616, Test loss: 0.664\n",
      "[Epoch  37] Train loss:0.563, Valid loss: 0.616, Test loss: 0.664\n",
      "[Epoch  38] Train loss:0.561, Valid loss: 0.616, Test loss: 0.663\n",
      "[Epoch  39] Train loss:0.559, Valid loss: 0.616, Test loss: 0.662\n",
      "[Epoch  40] Train loss:0.557, Valid loss: 0.616, Test loss: 0.661\n",
      "[Epoch  41] Train loss:0.556, Valid loss: 0.616, Test loss: 0.660\n",
      "[Epoch  42] Train loss:0.554, Valid loss: 0.615, Test loss: 0.659\n",
      "[Epoch  43] Train loss:0.552, Valid loss: 0.615, Test loss: 0.658\n",
      "[Epoch  44] Train loss:0.551, Valid loss: 0.616, Test loss: 0.658\n",
      "[Epoch  45] Train loss:0.550, Valid loss: 0.616, Test loss: 0.657\n",
      "[Epoch  46] Train loss:0.548, Valid loss: 0.616, Test loss: 0.656\n",
      "[Epoch  47] Train loss:0.547, Valid loss: 0.616, Test loss: 0.655\n",
      "[Epoch  48] Train loss:0.546, Valid loss: 0.616, Test loss: 0.654\n",
      "[Epoch  49] Train loss:0.545, Valid loss: 0.616, Test loss: 0.653\n",
      "[Epoch  50] Train loss:0.544, Valid loss: 0.616, Test loss: 0.653\n",
      "[Epoch  51] Train loss:0.543, Valid loss: 0.616, Test loss: 0.652\n",
      "[Epoch  52] Train loss:0.542, Valid loss: 0.616, Test loss: 0.651\n",
      "[Epoch  53] Train loss:0.541, Valid loss: 0.617, Test loss: 0.651\n",
      "[Epoch  54] Train loss:0.540, Valid loss: 0.617, Test loss: 0.650\n",
      "[Epoch  55] Train loss:0.540, Valid loss: 0.617, Test loss: 0.649\n",
      "[Epoch  56] Train loss:0.539, Valid loss: 0.617, Test loss: 0.649\n",
      "[Epoch  57] Train loss:0.538, Valid loss: 0.617, Test loss: 0.648\n",
      "[Epoch  58] Train loss:0.538, Valid loss: 0.617, Test loss: 0.647\n",
      "[Epoch  59] Train loss:0.537, Valid loss: 0.618, Test loss: 0.647\n",
      "[Epoch  60] Train loss:0.537, Valid loss: 0.618, Test loss: 0.646\n",
      "[Epoch  61] Train loss:0.536, Valid loss: 0.618, Test loss: 0.646\n",
      "[Epoch  62] Train loss:0.536, Valid loss: 0.618, Test loss: 0.645\n",
      "[Epoch  63] Train loss:0.535, Valid loss: 0.618, Test loss: 0.644\n",
      "\n",
      "loaded best model \"demo/checkpoint.pt\", valid loss: 0.615, test loss: 0.658\n",
      "Best model performance: AUROC 0.500, AUPR 0.708, Acc 0.750, F1 0.667\n",
      "==================================================\n"
     ]
    }
   ],
   "source": [
    "from DREAMwalk.predict_associations import predict_dda\n",
    "\n",
    "pairf='demo/demo_dda.tsv'\n",
    "modelf='demo/checkpoint.pt'\n",
    "\n",
    "predict_dda(embeddingf=embeddingf, pairf=pairf, modelf=modelf)"
   ]
  },
  {
   "cell_type": "code",
   "execution_count": null,
   "metadata": {},
   "outputs": [],
   "source": []
  }
 ],
 "metadata": {
  "kernelspec": {
   "display_name": "tutorial",
   "language": "python",
   "name": "tutorial"
  },
  "language_info": {
   "codemirror_mode": {
    "name": "ipython",
    "version": 3
   },
   "file_extension": ".py",
   "mimetype": "text/x-python",
   "name": "python",
   "nbconvert_exporter": "python",
   "pygments_lexer": "ipython3",
   "version": "3.8.13"
  }
 },
 "nbformat": 4,
 "nbformat_minor": 4
}
