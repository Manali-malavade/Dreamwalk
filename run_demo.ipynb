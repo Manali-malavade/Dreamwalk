{
 "cells": [
  {
   "cell_type": "code",
   "execution_count": 1,
   "metadata": {},
   "outputs": [],
   "source": [
    "%load_ext autoreload\n",
    "%autoreload 2"
   ]
  },
  {
   "cell_type": "markdown",
   "metadata": {},
   "source": [
    "## 1. Generate similarity graph from hierarchies\n",
    "- outputs `demo/demo_similarty_graph.txt`"
   ]
  },
  {
   "cell_type": "code",
   "execution_count": 2,
   "metadata": {},
   "outputs": [
    {
     "name": "stdout",
     "output_type": "stream",
     "text": [
      "Similarity graph saved: demo/demo_similarty_graph.txt\n"
     ]
    }
   ],
   "source": [
    "from DREAMwalk.generate_similarity_net import save_sim_graph\n",
    "\n",
    "networkf='demo/demo_graph.txt'\n",
    "hierf='demo/demo_hierarchy.csv'\n",
    "simf='demo/demo_similarty_graph.txt'\n",
    "cutoff=0.5\n",
    "\n",
    "save_sim_graph(networkf=networkf,hierf=hierf,outputf=simf,cutoff=cutoff)"
   ]
  },
  {
   "cell_type": "markdown",
   "metadata": {},
   "source": [
    "## 2. Generate node embeddings by teleport-guided randomwalk\n",
    "- outputs `demo/embedding_file.pkl`"
   ]
  },
  {
   "cell_type": "code",
   "execution_count": 3,
   "metadata": {},
   "outputs": [
    {
     "name": "stdout",
     "output_type": "stream",
     "text": [
      "random seed with 42\n",
      "Reading network files...\n",
      "Training edge type transition matrix...\n",
      "Generating paths...\n",
      "Generating node embeddings...\n",
      "Node embeddings saved: demo/embedding_file.pkl\n"
     ]
    }
   ],
   "source": [
    "from DREAMwalk.generate_embeddings import save_embedding_files\n",
    "\n",
    "embeddingf='demo/embedding_file.pkl'\n",
    "\n",
    "save_embedding_files(netf=networkf,sim_netf=simf, outputf=embeddingf,\n",
    "                    tp_factor=0.5)"
   ]
  },
  {
   "cell_type": "markdown",
   "metadata": {},
   "source": [
    "## 3. Predict drug-disease association\n",
    "- saves MLP model in `demo/checkpoint.pt`"
   ]
  },
  {
   "cell_type": "code",
   "execution_count": 4,
   "metadata": {},
   "outputs": [
    {
     "name": "stdout",
     "output_type": "stream",
     "text": [
      "random seed with 42\n",
      "[Epoch   0] Train loss:0.725, Valid loss: 0.725, Test loss: 0.719\n",
      "[Epoch   1] Train loss:0.720, Valid loss: 0.724, Test loss: 0.716\n",
      "[Epoch   2] Train loss:0.714, Valid loss: 0.724, Test loss: 0.713\n",
      "[Epoch   3] Train loss:0.709, Valid loss: 0.723, Test loss: 0.709\n",
      "[Epoch   4] Train loss:0.703, Valid loss: 0.722, Test loss: 0.706\n",
      "[Epoch   5] Train loss:0.698, Valid loss: 0.722, Test loss: 0.703\n",
      "[Epoch   6] Train loss:0.693, Valid loss: 0.721, Test loss: 0.700\n",
      "[Epoch   7] Train loss:0.688, Valid loss: 0.721, Test loss: 0.697\n",
      "[Epoch   8] Train loss:0.683, Valid loss: 0.720, Test loss: 0.693\n",
      "[Epoch   9] Train loss:0.678, Valid loss: 0.720, Test loss: 0.690\n",
      "[Epoch  10] Train loss:0.673, Valid loss: 0.719, Test loss: 0.686\n",
      "[Epoch  11] Train loss:0.668, Valid loss: 0.719, Test loss: 0.683\n",
      "[Epoch  12] Train loss:0.663, Valid loss: 0.719, Test loss: 0.679\n",
      "[Epoch  13] Train loss:0.658, Valid loss: 0.718, Test loss: 0.675\n",
      "[Epoch  14] Train loss:0.653, Valid loss: 0.718, Test loss: 0.672\n",
      "[Epoch  15] Train loss:0.649, Valid loss: 0.718, Test loss: 0.668\n",
      "[Epoch  16] Train loss:0.644, Valid loss: 0.718, Test loss: 0.664\n",
      "[Epoch  17] Train loss:0.639, Valid loss: 0.718, Test loss: 0.660\n",
      "[Epoch  18] Train loss:0.635, Valid loss: 0.718, Test loss: 0.656\n",
      "[Epoch  19] Train loss:0.630, Valid loss: 0.718, Test loss: 0.652\n",
      "[Epoch  20] Train loss:0.626, Valid loss: 0.718, Test loss: 0.647\n",
      "[Epoch  21] Train loss:0.621, Valid loss: 0.718, Test loss: 0.643\n",
      "[Epoch  22] Train loss:0.617, Valid loss: 0.718, Test loss: 0.639\n",
      "[Epoch  23] Train loss:0.613, Valid loss: 0.718, Test loss: 0.635\n",
      "[Epoch  24] Train loss:0.609, Valid loss: 0.718, Test loss: 0.631\n",
      "[Epoch  25] Train loss:0.605, Valid loss: 0.718, Test loss: 0.627\n",
      "[Epoch  26] Train loss:0.601, Valid loss: 0.718, Test loss: 0.623\n",
      "[Epoch  27] Train loss:0.598, Valid loss: 0.718, Test loss: 0.619\n",
      "[Epoch  28] Train loss:0.594, Valid loss: 0.718, Test loss: 0.615\n",
      "[Epoch  29] Train loss:0.591, Valid loss: 0.718, Test loss: 0.612\n",
      "[Epoch  30] Train loss:0.588, Valid loss: 0.718, Test loss: 0.608\n",
      "[Epoch  31] Train loss:0.585, Valid loss: 0.718, Test loss: 0.604\n",
      "[Epoch  32] Train loss:0.582, Valid loss: 0.718, Test loss: 0.601\n",
      "[Epoch  33] Train loss:0.579, Valid loss: 0.718, Test loss: 0.598\n",
      "[Epoch  34] Train loss:0.576, Valid loss: 0.718, Test loss: 0.594\n",
      "[Epoch  35] Train loss:0.574, Valid loss: 0.719, Test loss: 0.591\n",
      "[Epoch  36] Train loss:0.571, Valid loss: 0.719, Test loss: 0.588\n",
      "[Epoch  37] Train loss:0.569, Valid loss: 0.719, Test loss: 0.586\n",
      "[Epoch  38] Train loss:0.567, Valid loss: 0.719, Test loss: 0.583\n",
      "[Epoch  39] Train loss:0.564, Valid loss: 0.719, Test loss: 0.580\n",
      "[Epoch  40] Train loss:0.562, Valid loss: 0.719, Test loss: 0.578\n",
      "[Epoch  41] Train loss:0.560, Valid loss: 0.719, Test loss: 0.575\n",
      "[Epoch  42] Train loss:0.558, Valid loss: 0.719, Test loss: 0.573\n",
      "[Epoch  43] Train loss:0.556, Valid loss: 0.718, Test loss: 0.571\n",
      "[Epoch  44] Train loss:0.554, Valid loss: 0.718, Test loss: 0.569\n",
      "[Epoch  45] Train loss:0.552, Valid loss: 0.717, Test loss: 0.567\n",
      "[Epoch  46] Train loss:0.551, Valid loss: 0.717, Test loss: 0.565\n",
      "[Epoch  47] Train loss:0.549, Valid loss: 0.716, Test loss: 0.564\n",
      "[Epoch  48] Train loss:0.547, Valid loss: 0.715, Test loss: 0.562\n",
      "[Epoch  49] Train loss:0.545, Valid loss: 0.713, Test loss: 0.560\n",
      "[Epoch  50] Train loss:0.544, Valid loss: 0.712, Test loss: 0.559\n",
      "[Epoch  51] Train loss:0.542, Valid loss: 0.711, Test loss: 0.557\n",
      "[Epoch  52] Train loss:0.540, Valid loss: 0.710, Test loss: 0.556\n",
      "[Epoch  53] Train loss:0.539, Valid loss: 0.709, Test loss: 0.555\n",
      "[Epoch  54] Train loss:0.537, Valid loss: 0.707, Test loss: 0.553\n",
      "[Epoch  55] Train loss:0.536, Valid loss: 0.706, Test loss: 0.552\n",
      "[Epoch  56] Train loss:0.535, Valid loss: 0.705, Test loss: 0.551\n",
      "[Epoch  57] Train loss:0.533, Valid loss: 0.704, Test loss: 0.550\n",
      "[Epoch  58] Train loss:0.532, Valid loss: 0.703, Test loss: 0.548\n",
      "[Epoch  59] Train loss:0.531, Valid loss: 0.702, Test loss: 0.547\n",
      "[Epoch  60] Train loss:0.530, Valid loss: 0.701, Test loss: 0.546\n",
      "[Epoch  61] Train loss:0.528, Valid loss: 0.700, Test loss: 0.545\n",
      "[Epoch  62] Train loss:0.527, Valid loss: 0.699, Test loss: 0.544\n",
      "[Epoch  63] Train loss:0.526, Valid loss: 0.699, Test loss: 0.544\n",
      "[Epoch  64] Train loss:0.525, Valid loss: 0.698, Test loss: 0.543\n",
      "[Epoch  65] Train loss:0.524, Valid loss: 0.698, Test loss: 0.542\n",
      "[Epoch  66] Train loss:0.524, Valid loss: 0.697, Test loss: 0.541\n",
      "[Epoch  67] Train loss:0.523, Valid loss: 0.697, Test loss: 0.540\n",
      "[Epoch  68] Train loss:0.522, Valid loss: 0.697, Test loss: 0.539\n",
      "[Epoch  69] Train loss:0.521, Valid loss: 0.696, Test loss: 0.539\n",
      "[Epoch  70] Train loss:0.520, Valid loss: 0.696, Test loss: 0.538\n",
      "[Epoch  71] Train loss:0.520, Valid loss: 0.696, Test loss: 0.537\n",
      "[Epoch  72] Train loss:0.519, Valid loss: 0.696, Test loss: 0.537\n",
      "[Epoch  73] Train loss:0.519, Valid loss: 0.696, Test loss: 0.536\n",
      "[Epoch  74] Train loss:0.518, Valid loss: 0.696, Test loss: 0.536\n",
      "[Epoch  75] Train loss:0.517, Valid loss: 0.696, Test loss: 0.535\n",
      "[Epoch  76] Train loss:0.517, Valid loss: 0.696, Test loss: 0.535\n",
      "[Epoch  77] Train loss:0.516, Valid loss: 0.695, Test loss: 0.534\n",
      "[Epoch  78] Train loss:0.516, Valid loss: 0.695, Test loss: 0.534\n",
      "[Epoch  79] Train loss:0.515, Valid loss: 0.695, Test loss: 0.533\n",
      "[Epoch  80] Train loss:0.515, Valid loss: 0.695, Test loss: 0.533\n",
      "[Epoch  81] Train loss:0.514, Valid loss: 0.695, Test loss: 0.532\n",
      "[Epoch  82] Train loss:0.514, Valid loss: 0.695, Test loss: 0.532\n",
      "[Epoch  83] Train loss:0.514, Valid loss: 0.695, Test loss: 0.531\n",
      "[Epoch  84] Train loss:0.513, Valid loss: 0.694, Test loss: 0.531\n",
      "[Epoch  85] Train loss:0.513, Valid loss: 0.694, Test loss: 0.530\n",
      "[Epoch  86] Train loss:0.513, Valid loss: 0.694, Test loss: 0.530\n",
      "[Epoch  87] Train loss:0.512, Valid loss: 0.694, Test loss: 0.530\n",
      "[Epoch  88] Train loss:0.512, Valid loss: 0.694, Test loss: 0.529\n",
      "[Epoch  89] Train loss:0.512, Valid loss: 0.694, Test loss: 0.529\n",
      "[Epoch  90] Train loss:0.511, Valid loss: 0.694, Test loss: 0.528\n",
      "[Epoch  91] Train loss:0.511, Valid loss: 0.694, Test loss: 0.528\n",
      "[Epoch  92] Train loss:0.511, Valid loss: 0.694, Test loss: 0.528\n",
      "[Epoch  93] Train loss:0.511, Valid loss: 0.694, Test loss: 0.527\n",
      "[Epoch  94] Train loss:0.511, Valid loss: 0.694, Test loss: 0.527\n",
      "[Epoch  95] Train loss:0.510, Valid loss: 0.693, Test loss: 0.527\n",
      "[Epoch  96] Train loss:0.510, Valid loss: 0.693, Test loss: 0.526\n",
      "[Epoch  97] Train loss:0.510, Valid loss: 0.693, Test loss: 0.526\n",
      "[Epoch  98] Train loss:0.510, Valid loss: 0.693, Test loss: 0.526\n",
      "[Epoch  99] Train loss:0.510, Valid loss: 0.693, Test loss: 0.525\n",
      "[Epoch 100] Train loss:0.509, Valid loss: 0.693, Test loss: 0.525\n",
      "[Epoch 101] Train loss:0.509, Valid loss: 0.693, Test loss: 0.525\n",
      "[Epoch 102] Train loss:0.509, Valid loss: 0.693, Test loss: 0.524\n",
      "[Epoch 103] Train loss:0.509, Valid loss: 0.693, Test loss: 0.524\n",
      "[Epoch 104] Train loss:0.509, Valid loss: 0.693, Test loss: 0.524\n",
      "[Epoch 105] Train loss:0.509, Valid loss: 0.692, Test loss: 0.524\n",
      "[Epoch 106] Train loss:0.508, Valid loss: 0.692, Test loss: 0.523\n",
      "[Epoch 107] Train loss:0.508, Valid loss: 0.692, Test loss: 0.523\n",
      "[Epoch 108] Train loss:0.508, Valid loss: 0.692, Test loss: 0.523\n",
      "[Epoch 109] Train loss:0.508, Valid loss: 0.692, Test loss: 0.523\n",
      "[Epoch 110] Train loss:0.508, Valid loss: 0.692, Test loss: 0.522\n",
      "[Epoch 111] Train loss:0.508, Valid loss: 0.692, Test loss: 0.522\n",
      "[Epoch 112] Train loss:0.508, Valid loss: 0.692, Test loss: 0.522\n",
      "[Epoch 113] Train loss:0.508, Valid loss: 0.692, Test loss: 0.522\n",
      "[Epoch 114] Train loss:0.508, Valid loss: 0.692, Test loss: 0.522\n",
      "[Epoch 115] Train loss:0.507, Valid loss: 0.692, Test loss: 0.521\n",
      "[Epoch 116] Train loss:0.507, Valid loss: 0.692, Test loss: 0.521\n",
      "[Epoch 117] Train loss:0.507, Valid loss: 0.692, Test loss: 0.521\n",
      "[Epoch 118] Train loss:0.507, Valid loss: 0.692, Test loss: 0.521\n",
      "[Epoch 119] Train loss:0.507, Valid loss: 0.692, Test loss: 0.521\n",
      "[Epoch 120] Train loss:0.507, Valid loss: 0.692, Test loss: 0.520\n",
      "[Epoch 121] Train loss:0.507, Valid loss: 0.692, Test loss: 0.520\n",
      "[Epoch 122] Train loss:0.507, Valid loss: 0.692, Test loss: 0.520\n",
      "[Epoch 123] Train loss:0.507, Valid loss: 0.692, Test loss: 0.520\n",
      "[Epoch 124] Train loss:0.507, Valid loss: 0.692, Test loss: 0.520\n",
      "[Epoch 125] Train loss:0.507, Valid loss: 0.692, Test loss: 0.520\n",
      "[Epoch 126] Train loss:0.507, Valid loss: 0.692, Test loss: 0.519\n",
      "[Epoch 127] Train loss:0.507, Valid loss: 0.692, Test loss: 0.519\n",
      "[Epoch 128] Train loss:0.506, Valid loss: 0.692, Test loss: 0.519\n",
      "[Epoch 129] Train loss:0.506, Valid loss: 0.692, Test loss: 0.519\n",
      "[Epoch 130] Train loss:0.506, Valid loss: 0.692, Test loss: 0.519\n",
      "[Epoch 131] Train loss:0.506, Valid loss: 0.692, Test loss: 0.519\n",
      "[Epoch 132] Train loss:0.506, Valid loss: 0.692, Test loss: 0.519\n",
      "[Epoch 133] Train loss:0.506, Valid loss: 0.692, Test loss: 0.518\n",
      "[Epoch 134] Train loss:0.506, Valid loss: 0.692, Test loss: 0.518\n",
      "[Epoch 135] Train loss:0.506, Valid loss: 0.692, Test loss: 0.518\n",
      "[Epoch 136] Train loss:0.506, Valid loss: 0.692, Test loss: 0.518\n",
      "[Epoch 137] Train loss:0.506, Valid loss: 0.692, Test loss: 0.518\n",
      "[Epoch 138] Train loss:0.506, Valid loss: 0.692, Test loss: 0.518\n",
      "[Epoch 139] Train loss:0.506, Valid loss: 0.692, Test loss: 0.518\n",
      "[Epoch 140] Train loss:0.506, Valid loss: 0.692, Test loss: 0.518\n",
      "[Epoch 141] Train loss:0.506, Valid loss: 0.692, Test loss: 0.517\n",
      "[Epoch 142] Train loss:0.506, Valid loss: 0.692, Test loss: 0.517\n",
      "[Epoch 143] Train loss:0.506, Valid loss: 0.692, Test loss: 0.517\n",
      "[Epoch 144] Train loss:0.506, Valid loss: 0.692, Test loss: 0.517\n",
      "[Epoch 145] Train loss:0.506, Valid loss: 0.692, Test loss: 0.517\n",
      "[Epoch 146] Train loss:0.506, Valid loss: 0.692, Test loss: 0.517\n",
      "[Epoch 147] Train loss:0.506, Valid loss: 0.692, Test loss: 0.517\n",
      "[Epoch 148] Train loss:0.506, Valid loss: 0.692, Test loss: 0.517\n",
      "[Epoch 149] Train loss:0.506, Valid loss: 0.692, Test loss: 0.517\n",
      "[Epoch 150] Train loss:0.505, Valid loss: 0.692, Test loss: 0.516\n",
      "[Epoch 151] Train loss:0.505, Valid loss: 0.692, Test loss: 0.516\n",
      "[Epoch 152] Train loss:0.505, Valid loss: 0.692, Test loss: 0.516\n",
      "\n",
      "loaded best model \"demo/checkpoint.pt\", valid loss: 0.692, test loss: 0.519\n",
      "Best model performance: AUROC 1.000, AUPR 1.000, Acc 1.000, F1 1.000\n",
      "==================================================\n"
     ]
    }
   ],
   "source": [
    "from DREAMwalk.predict_associations import predict_dda\n",
    "\n",
    "pairf='demo/demo_dda.tsv'\n",
    "modelf='demo/checkpoint.pt'\n",
    "\n",
    "predict_dda(embeddingf=embeddingf, pairf=pairf, modelf=modelf)"
   ]
  }
 ],
 "metadata": {
  "kernelspec": {
   "display_name": "tutorial",
   "language": "python",
   "name": "tutorial"
  },
  "language_info": {
   "codemirror_mode": {
    "name": "ipython",
    "version": 3
   },
   "file_extension": ".py",
   "mimetype": "text/x-python",
   "name": "python",
   "nbconvert_exporter": "python",
   "pygments_lexer": "ipython3",
   "version": "3.8.13"
  }
 },
 "nbformat": 4,
 "nbformat_minor": 4
}
